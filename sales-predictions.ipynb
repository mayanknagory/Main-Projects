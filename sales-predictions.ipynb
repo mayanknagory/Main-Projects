{
 "cells": [
  {
   "cell_type": "code",
   "execution_count": 1,
   "id": "a9eb513e",
   "metadata": {
    "_cell_guid": "b1076dfc-b9ad-4769-8c92-a6c4dae69d19",
    "_uuid": "8f2839f25d086af736a60e9eeb907d3b93b6e0e5",
    "execution": {
     "iopub.execute_input": "2022-05-14T06:49:41.564021Z",
     "iopub.status.busy": "2022-05-14T06:49:41.562872Z",
     "iopub.status.idle": "2022-05-14T06:49:43.481440Z",
     "shell.execute_reply": "2022-05-14T06:49:43.480162Z"
    },
    "papermill": {
     "duration": 1.950127,
     "end_time": "2022-05-14T06:49:43.484251",
     "exception": false,
     "start_time": "2022-05-14T06:49:41.534124",
     "status": "completed"
    },
    "tags": []
   },
   "outputs": [],
   "source": [
    "# Import Libraries\n",
    "import pandas as pd\n",
    "import matplotlib.pyplot as plt\n",
    "import numpy as np\n",
    "import seaborn as sns\n",
    "pd.options.display.max_columns = 1000\n",
    "import warnings\n",
    "warnings.filterwarnings(action='ignore',category=DeprecationWarning)\n",
    "warnings.filterwarnings(action='ignore',category=FutureWarning)"
   ]
  },
  {
   "cell_type": "markdown",
   "id": "f2263ea2",
   "metadata": {
    "papermill": {
     "duration": 0.026524,
     "end_time": "2022-05-14T06:49:43.537689",
     "exception": false,
     "start_time": "2022-05-14T06:49:43.511165",
     "status": "completed"
    },
    "tags": []
   },
   "source": [
    "# 1. Load Data"
   ]
  },
  {
   "cell_type": "code",
   "execution_count": 2,
   "id": "1a108cd4",
   "metadata": {
    "execution": {
     "iopub.execute_input": "2022-05-14T06:49:43.593207Z",
     "iopub.status.busy": "2022-05-14T06:49:43.592769Z",
     "iopub.status.idle": "2022-05-14T06:49:49.215916Z",
     "shell.execute_reply": "2022-05-14T06:49:49.214878Z"
    },
    "papermill": {
     "duration": 5.65395,
     "end_time": "2022-05-14T06:49:49.218328",
     "exception": false,
     "start_time": "2022-05-14T06:49:43.564378",
     "status": "completed"
    },
    "tags": []
   },
   "outputs": [],
   "source": [
    "# Load each data file into a data frame\n",
    "item_categories = pd.read_csv(\"../input/competitive-data-science-predict-future-sales/item_categories.csv\", sep=\",\")\n",
    "items = pd.read_csv(\"../input/competitive-data-science-predict-future-sales/items.csv\", sep=\",\")\n",
    "shops = pd.read_csv(\"../input/competitive-data-science-predict-future-sales/shops.csv\", sep=\",\")\n",
    "test = pd.read_csv(\"../input/competitive-data-science-predict-future-sales/test.csv\", sep=\",\")\n",
    "sales_train = pd.read_csv(\"../input/competitive-data-science-predict-future-sales/sales_train.csv\", sep=\",\")"
   ]
  },
  {
   "cell_type": "markdown",
   "id": "c42ba971",
   "metadata": {
    "papermill": {
     "duration": 0.025779,
     "end_time": "2022-05-14T06:49:49.270032",
     "exception": false,
     "start_time": "2022-05-14T06:49:49.244253",
     "status": "completed"
    },
    "tags": []
   },
   "source": [
    "# 2. Explore Data"
   ]
  },
  {
   "cell_type": "code",
   "execution_count": 3,
   "id": "c5d8f38b",
   "metadata": {
    "execution": {
     "iopub.execute_input": "2022-05-14T06:49:49.324661Z",
     "iopub.status.busy": "2022-05-14T06:49:49.323985Z",
     "iopub.status.idle": "2022-05-14T06:49:49.751778Z",
     "shell.execute_reply": "2022-05-14T06:49:49.749877Z"
    },
    "papermill": {
     "duration": 0.458882,
     "end_time": "2022-05-14T06:49:49.755228",
     "exception": false,
     "start_time": "2022-05-14T06:49:49.296346",
     "status": "completed"
    },
    "tags": []
   },
   "outputs": [
    {
     "data": {
      "text/html": [
       "<div>\n",
       "<style scoped>\n",
       "    .dataframe tbody tr th:only-of-type {\n",
       "        vertical-align: middle;\n",
       "    }\n",
       "\n",
       "    .dataframe tbody tr th {\n",
       "        vertical-align: top;\n",
       "    }\n",
       "\n",
       "    .dataframe thead th {\n",
       "        text-align: right;\n",
       "    }\n",
       "</style>\n",
       "<table border=\"1\" class=\"dataframe\">\n",
       "  <thead>\n",
       "    <tr style=\"text-align: right;\">\n",
       "      <th></th>\n",
       "      <th>item_category_name</th>\n",
       "      <th>item_category_id</th>\n",
       "    </tr>\n",
       "  </thead>\n",
       "  <tbody>\n",
       "    <tr>\n",
       "      <th>0</th>\n",
       "      <td>PC - Гарнитуры/Наушники</td>\n",
       "      <td>0</td>\n",
       "    </tr>\n",
       "  </tbody>\n",
       "</table>\n",
       "</div>"
      ],
      "text/plain": [
       "        item_category_name  item_category_id\n",
       "0  PC - Гарнитуры/Наушники                 0"
      ]
     },
     "metadata": {},
     "output_type": "display_data"
    },
    {
     "data": {
      "text/html": [
       "<div>\n",
       "<style scoped>\n",
       "    .dataframe tbody tr th:only-of-type {\n",
       "        vertical-align: middle;\n",
       "    }\n",
       "\n",
       "    .dataframe tbody tr th {\n",
       "        vertical-align: top;\n",
       "    }\n",
       "\n",
       "    .dataframe thead th {\n",
       "        text-align: right;\n",
       "    }\n",
       "</style>\n",
       "<table border=\"1\" class=\"dataframe\">\n",
       "  <thead>\n",
       "    <tr style=\"text-align: right;\">\n",
       "      <th></th>\n",
       "      <th>item_name</th>\n",
       "      <th>item_id</th>\n",
       "      <th>item_category_id</th>\n",
       "    </tr>\n",
       "  </thead>\n",
       "  <tbody>\n",
       "    <tr>\n",
       "      <th>0</th>\n",
       "      <td>! ВО ВЛАСТИ НАВАЖДЕНИЯ (ПЛАСТ.)         D</td>\n",
       "      <td>0</td>\n",
       "      <td>40</td>\n",
       "    </tr>\n",
       "  </tbody>\n",
       "</table>\n",
       "</div>"
      ],
      "text/plain": [
       "                                   item_name  item_id  item_category_id\n",
       "0  ! ВО ВЛАСТИ НАВАЖДЕНИЯ (ПЛАСТ.)         D        0                40"
      ]
     },
     "metadata": {},
     "output_type": "display_data"
    },
    {
     "data": {
      "text/html": [
       "<div>\n",
       "<style scoped>\n",
       "    .dataframe tbody tr th:only-of-type {\n",
       "        vertical-align: middle;\n",
       "    }\n",
       "\n",
       "    .dataframe tbody tr th {\n",
       "        vertical-align: top;\n",
       "    }\n",
       "\n",
       "    .dataframe thead th {\n",
       "        text-align: right;\n",
       "    }\n",
       "</style>\n",
       "<table border=\"1\" class=\"dataframe\">\n",
       "  <thead>\n",
       "    <tr style=\"text-align: right;\">\n",
       "      <th></th>\n",
       "      <th>shop_name</th>\n",
       "      <th>shop_id</th>\n",
       "    </tr>\n",
       "  </thead>\n",
       "  <tbody>\n",
       "    <tr>\n",
       "      <th>0</th>\n",
       "      <td>!Якутск Орджоникидзе, 56 фран</td>\n",
       "      <td>0</td>\n",
       "    </tr>\n",
       "  </tbody>\n",
       "</table>\n",
       "</div>"
      ],
      "text/plain": [
       "                       shop_name  shop_id\n",
       "0  !Якутск Орджоникидзе, 56 фран        0"
      ]
     },
     "metadata": {},
     "output_type": "display_data"
    },
    {
     "data": {
      "text/html": [
       "<div>\n",
       "<style scoped>\n",
       "    .dataframe tbody tr th:only-of-type {\n",
       "        vertical-align: middle;\n",
       "    }\n",
       "\n",
       "    .dataframe tbody tr th {\n",
       "        vertical-align: top;\n",
       "    }\n",
       "\n",
       "    .dataframe thead th {\n",
       "        text-align: right;\n",
       "    }\n",
       "</style>\n",
       "<table border=\"1\" class=\"dataframe\">\n",
       "  <thead>\n",
       "    <tr style=\"text-align: right;\">\n",
       "      <th></th>\n",
       "      <th>ID</th>\n",
       "      <th>shop_id</th>\n",
       "      <th>item_id</th>\n",
       "    </tr>\n",
       "  </thead>\n",
       "  <tbody>\n",
       "    <tr>\n",
       "      <th>0</th>\n",
       "      <td>0</td>\n",
       "      <td>5</td>\n",
       "      <td>5037</td>\n",
       "    </tr>\n",
       "  </tbody>\n",
       "</table>\n",
       "</div>"
      ],
      "text/plain": [
       "   ID  shop_id  item_id\n",
       "0   0        5     5037"
      ]
     },
     "metadata": {},
     "output_type": "display_data"
    },
    {
     "data": {
      "text/html": [
       "<div>\n",
       "<style scoped>\n",
       "    .dataframe tbody tr th:only-of-type {\n",
       "        vertical-align: middle;\n",
       "    }\n",
       "\n",
       "    .dataframe tbody tr th {\n",
       "        vertical-align: top;\n",
       "    }\n",
       "\n",
       "    .dataframe thead th {\n",
       "        text-align: right;\n",
       "    }\n",
       "</style>\n",
       "<table border=\"1\" class=\"dataframe\">\n",
       "  <thead>\n",
       "    <tr style=\"text-align: right;\">\n",
       "      <th></th>\n",
       "      <th>date</th>\n",
       "      <th>date_block_num</th>\n",
       "      <th>shop_id</th>\n",
       "      <th>item_id</th>\n",
       "      <th>item_price</th>\n",
       "      <th>item_cnt_day</th>\n",
       "    </tr>\n",
       "  </thead>\n",
       "  <tbody>\n",
       "    <tr>\n",
       "      <th>0</th>\n",
       "      <td>02.01.2013</td>\n",
       "      <td>0</td>\n",
       "      <td>59</td>\n",
       "      <td>22154</td>\n",
       "      <td>999.0</td>\n",
       "      <td>1.0</td>\n",
       "    </tr>\n",
       "  </tbody>\n",
       "</table>\n",
       "</div>"
      ],
      "text/plain": [
       "         date  date_block_num  shop_id  item_id  item_price  item_cnt_day\n",
       "0  02.01.2013               0       59    22154       999.0           1.0"
      ]
     },
     "metadata": {},
     "output_type": "display_data"
    },
    {
     "name": "stdout",
     "output_type": "stream",
     "text": [
      "-------------------------------------------\n",
      "\n",
      "Null values:\n"
     ]
    },
    {
     "data": {
      "text/plain": [
       "date              0\n",
       "date_block_num    0\n",
       "shop_id           0\n",
       "item_id           0\n",
       "item_price        0\n",
       "item_cnt_day      0\n",
       "dtype: int64"
      ]
     },
     "metadata": {},
     "output_type": "display_data"
    },
    {
     "name": "stdout",
     "output_type": "stream",
     "text": [
      "-------------------------------------------\n",
      "<class 'pandas.core.frame.DataFrame'>\n",
      "RangeIndex: 2935849 entries, 0 to 2935848\n",
      "Data columns (total 6 columns):\n",
      " #   Column          Dtype  \n",
      "---  ------          -----  \n",
      " 0   date            object \n",
      " 1   date_block_num  int64  \n",
      " 2   shop_id         int64  \n",
      " 3   item_id         int64  \n",
      " 4   item_price      float64\n",
      " 5   item_cnt_day    float64\n",
      "dtypes: float64(2), int64(3), object(1)\n",
      "memory usage: 134.4+ MB\n"
     ]
    },
    {
     "data": {
      "text/plain": [
       "None"
      ]
     },
     "metadata": {},
     "output_type": "display_data"
    },
    {
     "name": "stdout",
     "output_type": "stream",
     "text": [
      "-------------------------------------------\n",
      "Max value in col 'item_cnt_day':  2169.0\n",
      "Min value in col 'item_cnt_day':  -22.0\n",
      "-------------------------------------------\n"
     ]
    }
   ],
   "source": [
    "# View each dataset\n",
    "display(item_categories.head(1))\n",
    "display(items.head(1))\n",
    "display(shops.head(1))\n",
    "display(test.head(1))\n",
    "display(sales_train.head(1))\n",
    "\n",
    "# Check for null values in sales_train\n",
    "print(\"-------------------------------------------\")\n",
    "print(\"\\nNull values:\")\n",
    "display(sales_train.isnull().sum())\n",
    "print(\"-------------------------------------------\")\n",
    "\n",
    "# Check columns in sales_train\n",
    "display(sales_train.info())\n",
    "print(\"-------------------------------------------\")\n",
    "print(\"Max value in col 'item_cnt_day': \", sales_train['item_cnt_day'].max())\n",
    "print(\"Min value in col 'item_cnt_day': \", sales_train['item_cnt_day'].min())\n",
    "print(\"-------------------------------------------\")"
   ]
  },
  {
   "cell_type": "markdown",
   "id": "8a31ef16",
   "metadata": {
    "papermill": {
     "duration": 0.032915,
     "end_time": "2022-05-14T06:49:49.821570",
     "exception": false,
     "start_time": "2022-05-14T06:49:49.788655",
     "status": "completed"
    },
    "tags": []
   },
   "source": [
    "**Observations:**\n",
    "\n",
    "No null values in col 'sales_train'"
   ]
  },
  {
   "cell_type": "markdown",
   "id": "6d5dd082",
   "metadata": {
    "papermill": {
     "duration": 0.032428,
     "end_time": "2022-05-14T06:49:49.887573",
     "exception": false,
     "start_time": "2022-05-14T06:49:49.855145",
     "status": "completed"
    },
    "tags": []
   },
   "source": [
    "# 3. Data Preprocessing"
   ]
  },
  {
   "cell_type": "markdown",
   "id": "39795f14",
   "metadata": {
    "papermill": {
     "duration": 0.033168,
     "end_time": "2022-05-14T06:49:49.957436",
     "exception": false,
     "start_time": "2022-05-14T06:49:49.924268",
     "status": "completed"
    },
    "tags": []
   },
   "source": [
    "**3.1 Find Outliers**"
   ]
  },
  {
   "cell_type": "code",
   "execution_count": 4,
   "id": "bc5a7dcb",
   "metadata": {
    "execution": {
     "iopub.execute_input": "2022-05-14T06:49:50.025692Z",
     "iopub.status.busy": "2022-05-14T06:49:50.025377Z",
     "iopub.status.idle": "2022-05-14T06:49:51.088884Z",
     "shell.execute_reply": "2022-05-14T06:49:51.087409Z"
    },
    "papermill": {
     "duration": 1.101344,
     "end_time": "2022-05-14T06:49:51.091110",
     "exception": false,
     "start_time": "2022-05-14T06:49:49.989766",
     "status": "completed"
    },
    "tags": []
   },
   "outputs": [
    {
     "data": {
      "image/png": "[encoded data removed]",
      "text/plain": [
       "<Figure size 720x432 with 2 Axes>"
      ]
     },
     "metadata": {
      "needs_background": "light"
     },
     "output_type": "display_data"
    }
   ],
   "source": [
    "# Find outliers in the columns sales_train.'item_cnt_day',sales_train.'item_price'\n",
    "cols = ['item_cnt_day','item_price']\n",
    "fig, ax = plt.subplots(ncols = len(cols), figsize = (5 * len(cols),6), sharex = True)\n",
    "fig.subplots_adjust(wspace=0.5)\n",
    "\n",
    "for i in range(len(cols)):\n",
    "  ax[i].boxplot(sales_train[cols[i]])\n",
    "  ax[i].set_xlabel(cols[i])\n",
    "  ax[i].set_ylabel(\"Count\")"
   ]
  },
  {
   "cell_type": "markdown",
   "id": "e5da98b7",
   "metadata": {
    "papermill": {
     "duration": 0.033079,
     "end_time": "2022-05-14T06:49:51.157531",
     "exception": false,
     "start_time": "2022-05-14T06:49:51.124452",
     "status": "completed"
    },
    "tags": []
   },
   "source": [
    "**Observations:**\n",
    "* item_cnt_day has outlier > 2000\n",
    "* item_price has outlier > 300000\n",
    "\n",
    "**Next:**\n",
    "* Remove observed outliers"
   ]
  },
  {
   "cell_type": "code",
   "execution_count": 5,
   "id": "3c72e026",
   "metadata": {
    "execution": {
     "iopub.execute_input": "2022-05-14T06:49:51.226973Z",
     "iopub.status.busy": "2022-05-14T06:49:51.226656Z",
     "iopub.status.idle": "2022-05-14T06:49:51.786578Z",
     "shell.execute_reply": "2022-05-14T06:49:51.785132Z"
    },
    "papermill": {
     "duration": 0.597549,
     "end_time": "2022-05-14T06:49:51.789381",
     "exception": false,
     "start_time": "2022-05-14T06:49:51.191832",
     "status": "completed"
    },
    "tags": []
   },
   "outputs": [],
   "source": [
    "# Remove Outliers\n",
    "outlier1 = sales_train[sales_train['item_cnt_day'] > 2000].index[0]\n",
    "outlier2 = sales_train[sales_train['item_price'] > 300000].index[0]\n",
    "sales_train.drop([outlier1,outlier2], axis = 0, inplace = True)\n",
    "\n",
    "# Reset index\n",
    "sales_train.reset_index(inplace=True,drop=True)"
   ]
  },
  {
   "cell_type": "markdown",
   "id": "4454951d",
   "metadata": {
    "papermill": {
     "duration": 0.033517,
     "end_time": "2022-05-14T06:49:51.856709",
     "exception": false,
     "start_time": "2022-05-14T06:49:51.823192",
     "status": "completed"
    },
    "tags": []
   },
   "source": [
    "**3.2 Find Anomalies**"
   ]
  },
  {
   "cell_type": "code",
   "execution_count": 6,
   "id": "6f6161dc",
   "metadata": {
    "execution": {
     "iopub.execute_input": "2022-05-14T06:49:51.928798Z",
     "iopub.status.busy": "2022-05-14T06:49:51.928477Z",
     "iopub.status.idle": "2022-05-14T06:49:53.371433Z",
     "shell.execute_reply": "2022-05-14T06:49:53.370480Z"
    },
    "papermill": {
     "duration": 1.481704,
     "end_time": "2022-05-14T06:49:53.373809",
     "exception": false,
     "start_time": "2022-05-14T06:49:51.892105",
     "status": "completed"
    },
    "tags": []
   },
   "outputs": [
    {
     "data": {
      "image/png": "[encoded data removed]",
      "text/plain": [
       "<Figure size 720x432 with 2 Axes>"
      ]
     },
     "metadata": {
      "needs_background": "light"
     },
     "output_type": "display_data"
    }
   ],
   "source": [
    "# Find anomalies in the columns sales_train.'item_cnt_day',sales_train.'item_price'\n",
    "cols = ['item_cnt_day','item_price']\n",
    "fig, ax = plt.subplots(ncols = len(cols), figsize = (5 * len(cols),6), sharex = True)\n",
    "fig.subplots_adjust(wspace=0.5)\n",
    "\n",
    "for i in range(len(cols)):\n",
    "  ax[i].plot(sales_train[cols[i]])\n",
    "  ax[i].set_xlabel(cols[i])\n",
    "  ax[i].set_ylabel(\"Count\")"
   ]
  },
  {
   "cell_type": "markdown",
   "id": "6b08d113",
   "metadata": {
    "papermill": {
     "duration": 0.035103,
     "end_time": "2022-05-14T06:49:53.444110",
     "exception": false,
     "start_time": "2022-05-14T06:49:53.409007",
     "status": "completed"
    },
    "tags": []
   },
   "source": [
    "**Observations:**\n",
    "\n",
    "* Column 'item_cnt_day' has some negative values which could be items that were 'returned'. Since we will be considering monthly counts, we will leave the negative values in there so that we get a correct count of items sold when we aggregrate by month"
   ]
  },
  {
   "cell_type": "markdown",
   "id": "f89d336a",
   "metadata": {
    "papermill": {
     "duration": 0.037476,
     "end_time": "2022-05-14T06:49:53.516968",
     "exception": false,
     "start_time": "2022-05-14T06:49:53.479492",
     "status": "completed"
    },
    "tags": []
   },
   "source": [
    "# 4. Feature Engineering"
   ]
  },
  {
   "cell_type": "code",
   "execution_count": 7,
   "id": "6613f098",
   "metadata": {
    "execution": {
     "iopub.execute_input": "2022-05-14T06:49:53.590452Z",
     "iopub.status.busy": "2022-05-14T06:49:53.589861Z",
     "iopub.status.idle": "2022-05-14T06:49:56.659754Z",
     "shell.execute_reply": "2022-05-14T06:49:56.658436Z"
    },
    "papermill": {
     "duration": 3.109537,
     "end_time": "2022-05-14T06:49:56.662461",
     "exception": false,
     "start_time": "2022-05-14T06:49:53.552924",
     "status": "completed"
    },
    "tags": []
   },
   "outputs": [],
   "source": [
    "# Get maximum number in column 'date_block_num' representing the last month in data\n",
    "sales_train_max_month = sales_train.date_block_num.max()\n",
    "\n",
    "# Add column 'date_block_num' to the test dataset. The values would be sales_train_max_month + 1 representing next month\n",
    "test['date_block_num'] = sales_train_max_month + 1\n",
    "\n",
    "# Create temp table to concat modified sales_train and test datasets\n",
    "sales_temp = pd.concat([sales_train,test])\n",
    "\n",
    "# Create monthly sales data by aggregating on column 'item_cnt_day' and then rename column to 'item_cnt_month'\n",
    "sales_monthly = sales_temp.groupby(by = ['date_block_num','shop_id','item_id'], as_index=False).agg({'item_cnt_day':'sum'})\n",
    "sales_monthly = sales_monthly.rename(columns={'item_cnt_day':'item_cnt_month'})"
   ]
  },
  {
   "cell_type": "markdown",
   "id": "bbb8c84f",
   "metadata": {
    "papermill": {
     "duration": 0.035862,
     "end_time": "2022-05-14T06:49:56.733835",
     "exception": false,
     "start_time": "2022-05-14T06:49:56.697973",
     "status": "completed"
    },
    "tags": []
   },
   "source": [
    "**4.1 Add Lag Feature**"
   ]
  },
  {
   "cell_type": "code",
   "execution_count": 8,
   "id": "dd273373",
   "metadata": {
    "execution": {
     "iopub.execute_input": "2022-05-14T06:49:56.807316Z",
     "iopub.status.busy": "2022-05-14T06:49:56.806796Z",
     "iopub.status.idle": "2022-05-14T06:49:56.846844Z",
     "shell.execute_reply": "2022-05-14T06:49:56.845682Z"
    },
    "papermill": {
     "duration": 0.080075,
     "end_time": "2022-05-14T06:49:56.849077",
     "exception": false,
     "start_time": "2022-05-14T06:49:56.769002",
     "status": "completed"
    },
    "tags": []
   },
   "outputs": [
    {
     "data": {
      "text/plain": [
       "date_block_num        0\n",
       "shop_id               0\n",
       "item_id               0\n",
       "item_cnt_month        0\n",
       "lag_item_cnt_month    0\n",
       "dtype: int64"
      ]
     },
     "execution_count": 8,
     "metadata": {},
     "output_type": "execute_result"
    }
   ],
   "source": [
    "# Add new lag column 'lag_item_cnt_month' by shifting values from 'item_cnt_month' by 1\n",
    "sales_monthly['lag_item_cnt_month'] = sales_monthly['item_cnt_month'].shift(1)\n",
    "\n",
    "# Remove na values in the lag column\n",
    "sales_monthly.fillna(0, inplace=True)\n",
    "sales_monthly.isna().sum()"
   ]
  },
  {
   "cell_type": "markdown",
   "id": "a7396c11",
   "metadata": {
    "papermill": {
     "duration": 0.034933,
     "end_time": "2022-05-14T06:49:56.919779",
     "exception": false,
     "start_time": "2022-05-14T06:49:56.884846",
     "status": "completed"
    },
    "tags": []
   },
   "source": [
    "# 5. Data Preparation"
   ]
  },
  {
   "cell_type": "code",
   "execution_count": 9,
   "id": "6c12518a",
   "metadata": {
    "execution": {
     "iopub.execute_input": "2022-05-14T06:49:56.993676Z",
     "iopub.status.busy": "2022-05-14T06:49:56.992803Z",
     "iopub.status.idle": "2022-05-14T06:49:57.084297Z",
     "shell.execute_reply": "2022-05-14T06:49:57.082543Z"
    },
    "papermill": {
     "duration": 0.1317,
     "end_time": "2022-05-14T06:49:57.087568",
     "exception": false,
     "start_time": "2022-05-14T06:49:56.955868",
     "status": "completed"
    },
    "tags": []
   },
   "outputs": [],
   "source": [
    "# The 'date_block_num' must be split as contiguos months of training data and validation data\n",
    "split_ratio = 0.8\n",
    "train_valid_split = np.floor(sales_train_max_month*split_ratio)\n",
    "train_data = sales_monthly[sales_monthly['date_block_num'] <= train_valid_split]\n",
    "valid_data = sales_monthly[(sales_monthly['date_block_num'] > train_valid_split) & (sales_monthly['date_block_num'] < sales_train_max_month+1)]\n",
    "\n",
    "# Test data will be the 'date_block_num' is sales_train_max_month+1\n",
    "test_data = sales_monthly[sales_monthly['date_block_num'] == sales_train_max_month+1]"
   ]
  },
  {
   "cell_type": "code",
   "execution_count": 10,
   "id": "50114b72",
   "metadata": {
    "execution": {
     "iopub.execute_input": "2022-05-14T06:49:57.161124Z",
     "iopub.status.busy": "2022-05-14T06:49:57.160773Z",
     "iopub.status.idle": "2022-05-14T06:49:57.188041Z",
     "shell.execute_reply": "2022-05-14T06:49:57.187099Z"
    },
    "papermill": {
     "duration": 0.068414,
     "end_time": "2022-05-14T06:49:57.191506",
     "exception": false,
     "start_time": "2022-05-14T06:49:57.123092",
     "status": "completed"
    },
    "tags": []
   },
   "outputs": [],
   "source": [
    "# Create X and y variables for train, validation and test sets\n",
    "X_train = train_data.drop('item_cnt_month',axis=1)\n",
    "y_train = train_data['item_cnt_month']\n",
    "\n",
    "X_valid = valid_data.drop('item_cnt_month',axis=1)\n",
    "y_valid = valid_data['item_cnt_month']\n",
    "\n",
    "X_test = test_data.drop('item_cnt_month',axis=1)\n",
    "y_test = test_data['item_cnt_month']"
   ]
  },
  {
   "cell_type": "markdown",
   "id": "0d342728",
   "metadata": {
    "papermill": {
     "duration": 0.035587,
     "end_time": "2022-05-14T06:49:57.262778",
     "exception": false,
     "start_time": "2022-05-14T06:49:57.227191",
     "status": "completed"
    },
    "tags": []
   },
   "source": [
    "# 6. Model Training and Prediction"
   ]
  },
  {
   "cell_type": "code",
   "execution_count": 11,
   "id": "9641b58d",
   "metadata": {
    "execution": {
     "iopub.execute_input": "2022-05-14T06:49:57.341680Z",
     "iopub.status.busy": "2022-05-14T06:49:57.341078Z",
     "iopub.status.idle": "2022-05-14T06:49:58.482654Z",
     "shell.execute_reply": "2022-05-14T06:49:58.481929Z"
    },
    "papermill": {
     "duration": 1.186506,
     "end_time": "2022-05-14T06:49:58.485301",
     "exception": false,
     "start_time": "2022-05-14T06:49:57.298795",
     "status": "completed"
    },
    "tags": []
   },
   "outputs": [
    {
     "name": "stdout",
     "output_type": "stream",
     "text": [
      "Root Mean Square Train Data = 8.117034222606708\n",
      "Root Mean Square Validation Data = 9.860192643190723\n"
     ]
    }
   ],
   "source": [
    "from sklearn.linear_model import LinearRegression\n",
    "from sklearn.metrics import mean_squared_error\n",
    "# Fit linear regression model to training set\n",
    "model = LinearRegression()\n",
    "model.fit(X_train,y_train)\n",
    "\n",
    "# Use model to Predict labels for validation and test sets \n",
    "train_pred =  model.predict(X_train)\n",
    "valid_pred = model.predict(X_valid)\n",
    "test_pred = model.predict(X_test)\n",
    "\n",
    "# Error metrics\n",
    "print(f'Root Mean Square Train Data = {np.sqrt(mean_squared_error(y_train,train_pred))}')\n",
    "print(f'Root Mean Square Validation Data = {np.sqrt(mean_squared_error(y_valid,valid_pred))}')  "
   ]
  },
  {
   "cell_type": "markdown",
   "id": "cba3854b",
   "metadata": {
    "papermill": {
     "duration": 0.042659,
     "end_time": "2022-05-14T06:49:58.575354",
     "exception": false,
     "start_time": "2022-05-14T06:49:58.532695",
     "status": "completed"
    },
    "tags": []
   },
   "source": [
    "**Submit Predictions**"
   ]
  },
  {
   "cell_type": "code",
   "execution_count": 12,
   "id": "3ff96498",
   "metadata": {
    "execution": {
     "iopub.execute_input": "2022-05-14T06:49:58.649673Z",
     "iopub.status.busy": "2022-05-14T06:49:58.649376Z",
     "iopub.status.idle": "2022-05-14T06:49:59.306366Z",
     "shell.execute_reply": "2022-05-14T06:49:59.305660Z"
    },
    "papermill": {
     "duration": 0.697692,
     "end_time": "2022-05-14T06:49:59.308934",
     "exception": false,
     "start_time": "2022-05-14T06:49:58.611242",
     "status": "completed"
    },
    "tags": []
   },
   "outputs": [],
   "source": [
    "submission = pd.DataFrame(test['ID'])\n",
    "submission['item_cnt_month'] = model.predict(X_test)\n",
    "submission.to_csv('submission.csv',index=False)"
   ]
  }
 ],
 "metadata": {
  "kernelspec": {
   "display_name": "Python 3",
   "language": "python",
   "name": "python3"
  },
  "language_info": {
   "codemirror_mode": {
    "name": "ipython",
    "version": 3
   },
   "file_extension": ".py",
   "mimetype": "text/x-python",
   "name": "python",
   "nbconvert_exporter": "python",
   "pygments_lexer": "ipython3",
   "version": "3.7.12"
  },
  "papermill": {
   "default_parameters": {},
   "duration": 33.482882,
   "end_time": "2022-05-14T06:50:00.570999",
   "environment_variables": {},
   "exception": null,
   "input_path": "__notebook__.ipynb",
   "output_path": "__notebook__.ipynb",
   "parameters": {},
   "start_time": "2022-05-14T06:49:27.088117",
   "version": "2.3.4"
  }
 },
 "nbformat": 4,
 "nbformat_minor": 5
}
